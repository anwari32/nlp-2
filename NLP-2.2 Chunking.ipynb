{
 "cells": [
  {
   "cell_type": "code",
   "execution_count": 1,
   "id": "turkish-share",
   "metadata": {},
   "outputs": [
    {
     "name": "stdout",
     "output_type": "stream",
     "text": [
      "load 400000 word vectors.\n"
     ]
    }
   ],
   "source": [
    "# Load GloVe model\n",
    "GLOVE_PATH = \"glove.6B.50d.txt\"\n",
    "EMBEDDING_DIM = 50\n",
    "\n",
    "def load_word_vectors(path):\n",
    "    word_vectors = dict()\n",
    "    f = open(path, encoding=\"utf-8\")\n",
    "    for line in f:\n",
    "        values = line.split()\n",
    "        word = values[0]\n",
    "        word_numbers = values[1:]\n",
    "        word_vectors[word] = word_numbers\n",
    "    f.close()\n",
    "    print(\"load {} word vectors.\".format(len(word_vectors)))\n",
    "    return word_vectors\n",
    "\n",
    "word_vectors = load_word_vectors(GLOVE_PATH)"
   ]
  },
  {
   "cell_type": "code",
   "execution_count": 101,
   "id": "fabulous-fifteen",
   "metadata": {},
   "outputs": [],
   "source": [
    "import pandas as pd\n",
    "import numpy as np\n",
    "\n",
    "data = pd.read_csv(\"train.txt/train.csv\", encoding=\"utf-8\")\n",
    "test_data = pd.read_csv(\"test.txt/test_utf_8.csv\", encoding=\"utf-8\")"
   ]
  },
  {
   "cell_type": "code",
   "execution_count": 102,
   "id": "molecular-attendance",
   "metadata": {},
   "outputs": [],
   "source": [
    "data = data.fillna(method=\"ffill\")\n",
    "test_data = test_data.fillna(method=\"ffill\")\n",
    "# data.head(10)"
   ]
  },
  {
   "cell_type": "code",
   "execution_count": 103,
   "id": "cross-context",
   "metadata": {},
   "outputs": [],
   "source": [
    "words = list(set(data[\"Word\"].values))\n",
    "test_words = list(set(test_data[\"Word\"].values))\n",
    "words.append(\"ENDPAD\")\n",
    "test_words.append(\"ENDPAD\")"
   ]
  },
  {
   "cell_type": "code",
   "execution_count": 104,
   "id": "complimentary-context",
   "metadata": {},
   "outputs": [],
   "source": [
    "tags = list(set(data[\"Tag\"].values))\n",
    "test_tags = list(set(test_data[\"Tag\"].values))\n",
    "# tags"
   ]
  },
  {
   "cell_type": "code",
   "execution_count": 105,
   "id": "instant-baseline",
   "metadata": {},
   "outputs": [],
   "source": [
    "# test_tags"
   ]
  },
  {
   "cell_type": "code",
   "execution_count": 106,
   "id": "third-excuse",
   "metadata": {},
   "outputs": [
    {
     "name": "stdout",
     "output_type": "stream",
     "text": [
      "n_words 19069, n_tags 22\n"
     ]
    }
   ],
   "source": [
    "n_words = len(words)\n",
    "n_tags = len(tags)\n",
    "print('n_words {}, n_tags {}'.format(n_words,n_tags))"
   ]
  },
  {
   "cell_type": "code",
   "execution_count": 107,
   "id": "finnish-paint",
   "metadata": {},
   "outputs": [
    {
     "name": "stdout",
     "output_type": "stream",
     "text": [
      "# sentences : 8448\n",
      "# test sentences : 1883\n"
     ]
    },
    {
     "data": {
      "text/plain": [
       "[('Confidence', 'NN', 'B-NP'),\n",
       " ('in', 'IN', 'B-PP'),\n",
       " ('the', 'DT', 'B-NP'),\n",
       " ('pound', 'NN', 'I-NP'),\n",
       " ('is', 'VBZ', 'B-VP'),\n",
       " ('widely', 'RB', 'I-VP'),\n",
       " ('expected', 'VBN', 'I-VP'),\n",
       " ('to', 'TO', 'I-VP'),\n",
       " ('take', 'VB', 'I-VP'),\n",
       " ('another', 'DT', 'B-NP'),\n",
       " ('sharp', 'JJ', 'I-NP'),\n",
       " ('dive', 'NN', 'I-NP'),\n",
       " ('if', 'IN', 'B-SBAR'),\n",
       " ('trade', 'NN', 'B-NP'),\n",
       " ('figures', 'NNS', 'I-NP'),\n",
       " ('for', 'IN', 'B-PP'),\n",
       " ('September', 'NNP', 'B-NP'),\n",
       " (',', ',', 'O'),\n",
       " ('due', 'JJ', 'B-ADJP'),\n",
       " ('for', 'IN', 'B-PP'),\n",
       " ('release', 'NN', 'B-NP'),\n",
       " ('tomorrow', 'NN', 'B-NP'),\n",
       " (',', ',', 'O'),\n",
       " ('fail', 'VB', 'B-VP'),\n",
       " ('to', 'TO', 'I-VP'),\n",
       " ('show', 'VB', 'I-VP'),\n",
       " ('a', 'DT', 'B-NP'),\n",
       " ('substantial', 'JJ', 'I-NP'),\n",
       " ('improvement', 'NN', 'I-NP'),\n",
       " ('from', 'IN', 'B-PP'),\n",
       " ('July', 'NNP', 'B-NP'),\n",
       " ('and', 'CC', 'I-NP'),\n",
       " ('August', 'NNP', 'I-NP'),\n",
       " (\"'s\", 'POS', 'B-NP'),\n",
       " ('near-record', 'JJ', 'I-NP'),\n",
       " ('deficits', 'NNS', 'I-NP'),\n",
       " ('.', '.', 'O'),\n",
       " ('.', '.', 'O')]"
      ]
     },
     "execution_count": 107,
     "metadata": {},
     "output_type": "execute_result"
    }
   ],
   "source": [
    "# Grouping words into sentence.\n",
    "# Input : dataframe\n",
    "# Output : array of sentences.\n",
    "def group_words(df):\n",
    "    sentences = []\n",
    "    sentence = []\n",
    "    sentence_counter = 1\n",
    "    sentence_ending_counter = 0\n",
    "    for index, row in df.iterrows():\n",
    "        tuple = (row['Word'],row['POS'],row['Tag'])\n",
    "\n",
    "        sentence.append(tuple)\n",
    "        if (row['Word'] == '.' and row['POS'] == '.' and row['Tag'] == 'O'):\n",
    "            sentence_ending_counter += 1\n",
    "        \n",
    "        if (sentence_ending_counter > 1):\n",
    "            sentences.append(sentence)                \n",
    "            sentence_ending_counter = 0\n",
    "            sentence = []\n",
    "                            \n",
    "    return sentences\n",
    "    \n",
    "sentences = group_words(data)\n",
    "test_sentences = group_words(test_data)\n",
    "print(\"# sentences : {}\".format(len(sentences)))\n",
    "print(\"# test sentences : {}\".format(len(test_sentences)))\n",
    "sentences[0]"
   ]
  },
  {
   "cell_type": "code",
   "execution_count": 108,
   "id": "signed-change",
   "metadata": {},
   "outputs": [
    {
     "data": {
      "image/png": "[encoded data removed]",
      "text/plain": [
       "<Figure size 432x288 with 1 Axes>"
      ]
     },
     "metadata": {},
     "output_type": "display_data"
    }
   ],
   "source": [
    "import matplotlib.pyplot as plt\n",
    "plt.style.use(\"ggplot\")\n",
    "plt.hist([len(s) for s in sentences], bins=50)\n",
    "plt.show()"
   ]
  },
  {
   "cell_type": "code",
   "execution_count": 109,
   "id": "fifty-jimmy",
   "metadata": {},
   "outputs": [],
   "source": [
    "max_len = 50\n",
    "word2idx = {w: i for i, w in enumerate(words)}\n",
    "test_word2idx = {w: i for i, w in enumerate(test_words)}\n",
    "tag2idx = {t: i for i, t in enumerate(tags)}\n",
    "test_tag2idx = {t: i for i, t in enumerate(test_tags)}\n",
    "# word2idx.items()"
   ]
  },
  {
   "cell_type": "code",
   "execution_count": 71,
   "id": "committed-active",
   "metadata": {},
   "outputs": [
    {
     "data": {
      "text/plain": [
       "17124"
      ]
     },
     "execution_count": 71,
     "metadata": {},
     "output_type": "execute_result"
    }
   ],
   "source": [
    "word2idx[\"Confidence\"]\n",
    "# test_word2idx[\"Confidence\"]"
   ]
  },
  {
   "cell_type": "code",
   "execution_count": 72,
   "id": "ideal-moisture",
   "metadata": {},
   "outputs": [
    {
     "data": {
      "text/plain": [
       "5"
      ]
     },
     "execution_count": 72,
     "metadata": {},
     "output_type": "execute_result"
    }
   ],
   "source": [
    "tag2idx[\"B-NP\"]\n",
    "test_tag2idx[\"B-NP\"]"
   ]
  },
  {
   "cell_type": "code",
   "execution_count": 110,
   "id": "geographic-titanium",
   "metadata": {},
   "outputs": [
    {
     "data": {
      "text/plain": [
       "array([17124, 12240, 11067, 11862, 13395,  8975,  4858, 12384,  6456,\n",
       "       15094, 15422,  8933, 18427,  1244,  1162, 13687,  2914, 14819,\n",
       "        5200, 13687,  6486,  5324, 14819, 17665, 12384, 10780, 12399,\n",
       "        4133,  7185, 18387, 15108, 12221,  8346,  4893,  4160, 12575,\n",
       "        7279,  7279, 19068, 19068, 19068, 19068, 19068, 19068, 19068,\n",
       "       19068, 19068, 19068, 19068, 19068], dtype=int32)"
      ]
     },
     "execution_count": 110,
     "metadata": {},
     "output_type": "execute_result"
    }
   ],
   "source": [
    "def create_embedding_matrix(word_index):\n",
    "    vocabulary_size = len(word_index)\n",
    "    embedding_matrix = np.zeros((vocabulary_size, EMBEDDING_DIM))\n",
    "    for word,i in word_index.items():\n",
    "        try:\n",
    "            # print('word[{}] => {}'.format(i,word))\n",
    "            embedding_vector = word_vectors[word]\n",
    "            embedding_matrix[i] = np.array(embedding_vector)\n",
    "        except KeyError:\n",
    "            vec = np.zeros(EMBEDDING_DIM)\n",
    "            embedding_matrix[i] = vec\n",
    "    return embedding_matrix\n",
    "\n",
    "embedding_matrix = create_embedding_matrix(word2idx)\n",
    "# embedding_matrix\n",
    "X[0]"
   ]
  },
  {
   "cell_type": "code",
   "execution_count": 75,
   "id": "lovely-hudson",
   "metadata": {},
   "outputs": [],
   "source": [
    "from keras.preprocessing.sequence import pad_sequences\n",
    "X = [[word2idx[w[0]] for w in s] for s in sentences]\n",
    "X_test = [[test_word2idx[w[0]] for w in s] for s in test_sentences]\n",
    "X = pad_sequences(maxlen=max_len, sequences=X, padding=\"post\", value=n_words - 1)\n",
    "X_test = pad_sequences(maxlen=max_len, sequences=X_test, padding=\"post\", value=n_words - 1)"
   ]
  },
  {
   "cell_type": "code",
   "execution_count": 98,
   "id": "large-recommendation",
   "metadata": {},
   "outputs": [
    {
     "data": {
      "text/plain": [
       "array([ 5310, 18346, 11067, 17983, 10909, 15075,  4893,   446, 18834,\n",
       "       12384, 12399,  2739,  6271, 13843, 11021, 15610, 12384, 11328,\n",
       "       12399,  9496, 12240,   638,  2476, 11067,  1241,  8366,  7279,\n",
       "        7279, 19068, 19068, 19068, 19068, 19068, 19068, 19068, 19068,\n",
       "       19068, 19068, 19068, 19068, 19068, 19068, 19068, 19068, 19068,\n",
       "       19068, 19068, 19068, 19068, 19068], dtype=int32)"
      ]
     },
     "execution_count": 98,
     "metadata": {},
     "output_type": "execute_result"
    }
   ],
   "source": [
    "X[1]"
   ]
  },
  {
   "cell_type": "code",
   "execution_count": 77,
   "id": "dangerous-hawaiian",
   "metadata": {},
   "outputs": [],
   "source": [
    "y = [[tag2idx[w[2]] for w in s] for s in sentences]\n",
    "y_test = [[test_tag2idx[w[2]] for w in s] for s in test_sentences]\n",
    "y = pad_sequences(maxlen=max_len, sequences=y, padding=\"post\", value=tag2idx[\"O\"])\n",
    "y_test = pad_sequences(maxlen=max_len, sequences=y_test, padding=\"post\", value=tag2idx[\"O\"])"
   ]
  },
  {
   "cell_type": "code",
   "execution_count": 78,
   "id": "extensive-modem",
   "metadata": {},
   "outputs": [
    {
     "data": {
      "text/plain": [
       "array([[ 5,  0,  0, ..., 16, 16, 16],\n",
       "       [ 5, 10,  5, ..., 16, 16, 16],\n",
       "       [ 5, 10, 13, ..., 16, 16, 16],\n",
       "       ...,\n",
       "       [13,  2, 10, ..., 16, 16, 16],\n",
       "       [13,  5,  4, ..., 16, 16, 16],\n",
       "       [13,  2,  5, ..., 16, 16, 16]], dtype=int32)"
      ]
     },
     "execution_count": 78,
     "metadata": {},
     "output_type": "execute_result"
    }
   ],
   "source": [
    "y_test"
   ]
  },
  {
   "cell_type": "code",
   "execution_count": 79,
   "id": "assumed-fusion",
   "metadata": {},
   "outputs": [],
   "source": [
    "from keras.utils import to_categorical\n",
    "y = [to_categorical(i, num_classes=n_tags) for i in y]"
   ]
  },
  {
   "cell_type": "code",
   "execution_count": 80,
   "id": "aerial-england",
   "metadata": {},
   "outputs": [],
   "source": [
    "from sklearn.model_selection import train_test_split\n",
    "X_training, X_validation, y_training, y_validation = train_test_split(X, y, test_size=0.1)"
   ]
  },
  {
   "cell_type": "code",
   "execution_count": 81,
   "id": "processed-founder",
   "metadata": {},
   "outputs": [],
   "source": [
    "from keras.models import Model, Input\n",
    "from keras.layers import LSTM, Embedding, Dense, TimeDistributed, Dropout, Bidirectional, Conv1D, MaxPooling1D,Flatten"
   ]
  },
  {
   "cell_type": "code",
   "execution_count": 82,
   "id": "retired-cliff",
   "metadata": {},
   "outputs": [],
   "source": [
    "input = Input(shape=(max_len,))\n",
    "model = Embedding(input_dim=n_words, output_dim=EMBEDDING_DIM, input_length=max_len, weights=[embedding_matrix])(input)  # 50-dim embedding\n",
    "model = Conv1D(128, 5, activation='relu', padding=\"same\")(model) # padding = same so that conv-result doesn't change. (why?)\n",
    "# model = MaxPooling1D(5)(model)\n",
    "model = Dropout(0.1)(model)\n",
    "model = Bidirectional(LSTM(units=128, return_sequences=True, recurrent_dropout=0.1))(model)  # variational biLSTM\n",
    "out = TimeDistributed(Dense(n_tags, activation=\"softmax\"))(model)  # softmax output layer"
   ]
  },
  {
   "cell_type": "code",
   "execution_count": 83,
   "id": "binding-enhancement",
   "metadata": {},
   "outputs": [
    {
     "name": "stdout",
     "output_type": "stream",
     "text": [
      "Model: \"model_1\"\n",
      "_________________________________________________________________\n",
      "Layer (type)                 Output Shape              Param #   \n",
      "=================================================================\n",
      "input_2 (InputLayer)         [(None, 50)]              0         \n",
      "_________________________________________________________________\n",
      "embedding_1 (Embedding)      (None, 50, 50)            953450    \n",
      "_________________________________________________________________\n",
      "conv1d_1 (Conv1D)            (None, 50, 128)           32128     \n",
      "_________________________________________________________________\n",
      "dropout_1 (Dropout)          (None, 50, 128)           0         \n",
      "_________________________________________________________________\n",
      "bidirectional_1 (Bidirection (None, 50, 256)           263168    \n",
      "_________________________________________________________________\n",
      "time_distributed_1 (TimeDist (None, 50, 22)            5654      \n",
      "=================================================================\n",
      "Total params: 1,254,400\n",
      "Trainable params: 1,254,400\n",
      "Non-trainable params: 0\n",
      "_________________________________________________________________\n"
     ]
    }
   ],
   "source": [
    "model = Model(input, out)\n",
    "model.compile(optimizer=\"rmsprop\", loss=\"categorical_crossentropy\", metrics=[\"accuracy\"])\n",
    "model.summary()"
   ]
  },
  {
   "cell_type": "code",
   "execution_count": 84,
   "id": "parental-maldives",
   "metadata": {},
   "outputs": [
    {
     "name": "stdout",
     "output_type": "stream",
     "text": [
      "Epoch 1/3\n",
      "214/214 [==============================] - 34s 143ms/step - loss: 0.7853 - accuracy: 0.7694 - val_loss: 0.2567 - val_accuracy: 0.9221\n",
      "Epoch 2/3\n",
      "214/214 [==============================] - 30s 140ms/step - loss: 0.2343 - accuracy: 0.9297 - val_loss: 0.1732 - val_accuracy: 0.9484\n",
      "Epoch 3/3\n",
      "214/214 [==============================] - 30s 141ms/step - loss: 0.1612 - accuracy: 0.9513 - val_loss: 0.1430 - val_accuracy: 0.9567\n"
     ]
    }
   ],
   "source": [
    "history = model.fit(X_training, np.array(y_training), batch_size=32, epochs=3, validation_split=0.1, verbose=1)"
   ]
  },
  {
   "cell_type": "code",
   "execution_count": 93,
   "id": "elementary-approach",
   "metadata": {},
   "outputs": [
    {
     "data": {
      "text/plain": [
       "array([[ 5114,   808,  4820, ..., 19068, 19068, 19068],\n",
       "       [ 6770,  2408,  4671, ..., 19068, 19068, 19068],\n",
       "       [ 7804,  4568,  6278, ..., 19068, 19068, 19068],\n",
       "       ...,\n",
       "       [ 3066,  3434,  4295, ..., 19068, 19068, 19068],\n",
       "       [ 3066,  3527,  4977, ..., 19068, 19068, 19068],\n",
       "       [ 3066,  3081,  2281, ..., 19068, 19068, 19068]], dtype=int32)"
      ]
     },
     "execution_count": 93,
     "metadata": {},
     "output_type": "execute_result"
    }
   ],
   "source": [
    "X_test"
   ]
  },
  {
   "cell_type": "code",
   "execution_count": 90,
   "id": "atomic-pharmacy",
   "metadata": {},
   "outputs": [
    {
     "name": "stdout",
     "output_type": "stream",
     "text": [
      "training accuracy: 0.9623\n"
     ]
    }
   ],
   "source": [
    "train_loss,train_accuracy = model.evaluate(X_training, np.array(y_training), verbose=False)\n",
    "print(\"training accuracy: {:.4f}\".format(train_accuracy))"
   ]
  },
  {
   "cell_type": "code",
   "execution_count": 91,
   "id": "ruled-style",
   "metadata": {},
   "outputs": [
    {
     "name": "stdout",
     "output_type": "stream",
     "text": [
      "validation accuracy: 0.9551\n"
     ]
    }
   ],
   "source": [
    "valid_loss,valid_accuracy = model.evaluate(X_validation, np.array(y_validation), verbose=False)\n",
    "print(\"validation accuracy: {:.4f}\".format(valid_accuracy))"
   ]
  },
  {
   "cell_type": "code",
   "execution_count": null,
   "id": "compliant-subdivision",
   "metadata": {},
   "outputs": [],
   "source": [
    "history = model.fit(X_training, y_training, epochs=3, verbose=1, validation_data=[X_validation,y_validation])"
   ]
  },
  {
   "cell_type": "code",
   "execution_count": 94,
   "id": "conceptual-astronomy",
   "metadata": {},
   "outputs": [],
   "source": [
    "y_test = [to_categorical(i, num_classes=n_tags) for i in y_test]"
   ]
  },
  {
   "cell_type": "code",
   "execution_count": 95,
   "id": "bigger-antenna",
   "metadata": {},
   "outputs": [
    {
     "name": "stdout",
     "output_type": "stream",
     "text": [
      "test accuracy: 0.5843\n"
     ]
    }
   ],
   "source": [
    "test_loss,test_accuracy = model.evaluate(X_test, np.array(y_test), verbose=False)\n",
    "print(\"test accuracy: {:.4f}\".format(test_accuracy))"
   ]
  },
  {
   "cell_type": "code",
   "execution_count": null,
   "id": "mexican-composer",
   "metadata": {},
   "outputs": [],
   "source": []
  }
 ],
 "metadata": {
  "kernelspec": {
   "display_name": "Python 3",
   "language": "python",
   "name": "python3"
  },
  "language_info": {
   "codemirror_mode": {
    "name": "ipython",
    "version": 3
   },
   "file_extension": ".py",
   "mimetype": "text/x-python",
   "name": "python",
   "nbconvert_exporter": "python",
   "pygments_lexer": "ipython3",
   "version": "3.8.5"
  }
 },
 "nbformat": 4,
 "nbformat_minor": 5
}
